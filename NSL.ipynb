{
 "cells": [
  {
   "cell_type": "markdown",
   "id": "de769504",
   "metadata": {},
   "source": [
    "# importing "
   ]
  },
  {
   "cell_type": "code",
   "execution_count": 1,
   "id": "63016d97",
   "metadata": {},
   "outputs": [],
   "source": [
    "import pandas as pd\n",
    "import numpy as np\n",
    "import matplotlib.pyplot as plt\n",
    "import seaborn as sns\n",
    "import warnings\n",
    "warnings.filterwarnings('ignore')\n",
    "\n",
    "from sklearn import tree\n",
    "from sklearn.svm import SVC\n",
    "from sklearn.linear_model import LinearRegression\n",
    "from sklearn.linear_model import LogisticRegression\n",
    "from sklearn.ensemble import GradientBoostingClassifier\n",
    "from sklearn.ensemble import RandomForestClassifier\n",
    "from sklearn.neighbors import KNeighborsClassifier\n",
    "from sklearn.neighbors import NearestNeighbors\n",
    "from sklearn.naive_bayes import GaussianNB\n",
    "from sklearn.model_selection import GridSearchCV\n",
    "\n",
    "from sklearn.model_selection import train_test_split\n",
    "from sklearn.metrics import accuracy_score\n",
    "\n",
    "from sklearn.preprocessing import MinMaxScaler, StandardScaler,OneHotEncoder\n",
    "from sklearn.decomposition import PCA\n",
    "from sklearn.feature_selection import VarianceThreshold\n",
    "from sklearn.feature_selection import SequentialFeatureSelector, chi2, f_classif,SelectPercentile\n",
    "from sklearn.feature_selection import SelectKBest\n"
   ]
  },
  {
   "cell_type": "markdown",
   "id": "e747f432",
   "metadata": {},
   "source": [
    "# read data"
   ]
  },
  {
   "cell_type": "code",
   "execution_count": 2,
   "id": "301fd5b0",
   "metadata": {},
   "outputs": [],
   "source": [
    "df_train=pd.read_csv(r\"C:\\Users\\lenovo\\Downloads\\intrution data\\intrution data\\train_COMPETITION.csv\")"
   ]
  },
  {
   "cell_type": "code",
   "execution_count": 3,
   "id": "f0ca8eb6",
   "metadata": {},
   "outputs": [],
   "source": [
    "df_test=pd.read_csv(r\"C:\\Users\\lenovo\\Downloads\\intrution data\\intrution data\\test_COMPETITION.csv\")"
   ]
  },
  {
   "cell_type": "code",
   "execution_count": 4,
   "id": "3d2201cd",
   "metadata": {},
   "outputs": [
    {
     "data": {
      "text/html": [
       "<div>\n",
       "<style scoped>\n",
       "    .dataframe tbody tr th:only-of-type {\n",
       "        vertical-align: middle;\n",
       "    }\n",
       "\n",
       "    .dataframe tbody tr th {\n",
       "        vertical-align: top;\n",
       "    }\n",
       "\n",
       "    .dataframe thead th {\n",
       "        text-align: right;\n",
       "    }\n",
       "</style>\n",
       "<table border=\"1\" class=\"dataframe\">\n",
       "  <thead>\n",
       "    <tr style=\"text-align: right;\">\n",
       "      <th></th>\n",
       "      <th>ID</th>\n",
       "      <th>duration</th>\n",
       "      <th>protocol_type</th>\n",
       "      <th>service</th>\n",
       "      <th>flag</th>\n",
       "      <th>src_bytes</th>\n",
       "      <th>dst_bytes</th>\n",
       "      <th>land</th>\n",
       "      <th>wrong_fragment</th>\n",
       "      <th>urgent</th>\n",
       "      <th>...</th>\n",
       "      <th>dst_host_same_srv_rate</th>\n",
       "      <th>dst_host_diff_srv_rate</th>\n",
       "      <th>dst_host_same_src_port_rate</th>\n",
       "      <th>dst_host_srv_diff_host_rate</th>\n",
       "      <th>dst_host_serror_rate</th>\n",
       "      <th>dst_host_srv_serror_rate</th>\n",
       "      <th>dst_host_rerror_rate</th>\n",
       "      <th>dst_host_srv_rerror_rate</th>\n",
       "      <th>level</th>\n",
       "      <th>Class</th>\n",
       "    </tr>\n",
       "  </thead>\n",
       "  <tbody>\n",
       "    <tr>\n",
       "      <th>0</th>\n",
       "      <td>7060</td>\n",
       "      <td>0</td>\n",
       "      <td>tcp</td>\n",
       "      <td>smtp</td>\n",
       "      <td>SF</td>\n",
       "      <td>1129</td>\n",
       "      <td>327</td>\n",
       "      <td>0</td>\n",
       "      <td>0</td>\n",
       "      <td>0</td>\n",
       "      <td>...</td>\n",
       "      <td>1.00</td>\n",
       "      <td>0.00</td>\n",
       "      <td>0.14</td>\n",
       "      <td>0.02</td>\n",
       "      <td>0.0</td>\n",
       "      <td>0.04</td>\n",
       "      <td>0.0</td>\n",
       "      <td>0.01</td>\n",
       "      <td>21</td>\n",
       "      <td>0</td>\n",
       "    </tr>\n",
       "    <tr>\n",
       "      <th>1</th>\n",
       "      <td>22036</td>\n",
       "      <td>0</td>\n",
       "      <td>tcp</td>\n",
       "      <td>http</td>\n",
       "      <td>SF</td>\n",
       "      <td>242</td>\n",
       "      <td>2147</td>\n",
       "      <td>0</td>\n",
       "      <td>0</td>\n",
       "      <td>0</td>\n",
       "      <td>...</td>\n",
       "      <td>1.00</td>\n",
       "      <td>0.00</td>\n",
       "      <td>0.00</td>\n",
       "      <td>0.00</td>\n",
       "      <td>0.0</td>\n",
       "      <td>0.00</td>\n",
       "      <td>0.0</td>\n",
       "      <td>0.00</td>\n",
       "      <td>21</td>\n",
       "      <td>0</td>\n",
       "    </tr>\n",
       "    <tr>\n",
       "      <th>2</th>\n",
       "      <td>19555</td>\n",
       "      <td>0</td>\n",
       "      <td>tcp</td>\n",
       "      <td>http</td>\n",
       "      <td>SF</td>\n",
       "      <td>299</td>\n",
       "      <td>3991</td>\n",
       "      <td>0</td>\n",
       "      <td>0</td>\n",
       "      <td>0</td>\n",
       "      <td>...</td>\n",
       "      <td>1.00</td>\n",
       "      <td>0.00</td>\n",
       "      <td>0.00</td>\n",
       "      <td>0.00</td>\n",
       "      <td>0.0</td>\n",
       "      <td>0.00</td>\n",
       "      <td>0.0</td>\n",
       "      <td>0.00</td>\n",
       "      <td>21</td>\n",
       "      <td>0</td>\n",
       "    </tr>\n",
       "    <tr>\n",
       "      <th>3</th>\n",
       "      <td>11393</td>\n",
       "      <td>0</td>\n",
       "      <td>udp</td>\n",
       "      <td>domain_u</td>\n",
       "      <td>SF</td>\n",
       "      <td>43</td>\n",
       "      <td>133</td>\n",
       "      <td>0</td>\n",
       "      <td>0</td>\n",
       "      <td>0</td>\n",
       "      <td>...</td>\n",
       "      <td>1.00</td>\n",
       "      <td>0.01</td>\n",
       "      <td>0.00</td>\n",
       "      <td>0.00</td>\n",
       "      <td>0.0</td>\n",
       "      <td>0.00</td>\n",
       "      <td>0.0</td>\n",
       "      <td>0.00</td>\n",
       "      <td>21</td>\n",
       "      <td>0</td>\n",
       "    </tr>\n",
       "    <tr>\n",
       "      <th>4</th>\n",
       "      <td>22783</td>\n",
       "      <td>0</td>\n",
       "      <td>tcp</td>\n",
       "      <td>telnet</td>\n",
       "      <td>S0</td>\n",
       "      <td>0</td>\n",
       "      <td>0</td>\n",
       "      <td>0</td>\n",
       "      <td>0</td>\n",
       "      <td>0</td>\n",
       "      <td>...</td>\n",
       "      <td>0.14</td>\n",
       "      <td>0.19</td>\n",
       "      <td>0.05</td>\n",
       "      <td>0.00</td>\n",
       "      <td>0.1</td>\n",
       "      <td>0.67</td>\n",
       "      <td>0.0</td>\n",
       "      <td>0.00</td>\n",
       "      <td>4</td>\n",
       "      <td>0</td>\n",
       "    </tr>\n",
       "  </tbody>\n",
       "</table>\n",
       "<p>5 rows × 44 columns</p>\n",
       "</div>"
      ],
      "text/plain": [
       "      ID  duration protocol_type   service flag  src_bytes  dst_bytes  land  \\\n",
       "0   7060         0           tcp      smtp   SF       1129        327     0   \n",
       "1  22036         0           tcp      http   SF        242       2147     0   \n",
       "2  19555         0           tcp      http   SF        299       3991     0   \n",
       "3  11393         0           udp  domain_u   SF         43        133     0   \n",
       "4  22783         0           tcp    telnet   S0          0          0     0   \n",
       "\n",
       "   wrong_fragment  urgent  ...  dst_host_same_srv_rate  \\\n",
       "0               0       0  ...                    1.00   \n",
       "1               0       0  ...                    1.00   \n",
       "2               0       0  ...                    1.00   \n",
       "3               0       0  ...                    1.00   \n",
       "4               0       0  ...                    0.14   \n",
       "\n",
       "   dst_host_diff_srv_rate  dst_host_same_src_port_rate  \\\n",
       "0                    0.00                         0.14   \n",
       "1                    0.00                         0.00   \n",
       "2                    0.00                         0.00   \n",
       "3                    0.01                         0.00   \n",
       "4                    0.19                         0.05   \n",
       "\n",
       "   dst_host_srv_diff_host_rate  dst_host_serror_rate  \\\n",
       "0                         0.02                   0.0   \n",
       "1                         0.00                   0.0   \n",
       "2                         0.00                   0.0   \n",
       "3                         0.00                   0.0   \n",
       "4                         0.00                   0.1   \n",
       "\n",
       "   dst_host_srv_serror_rate  dst_host_rerror_rate  dst_host_srv_rerror_rate  \\\n",
       "0                      0.04                   0.0                      0.01   \n",
       "1                      0.00                   0.0                      0.00   \n",
       "2                      0.00                   0.0                      0.00   \n",
       "3                      0.00                   0.0                      0.00   \n",
       "4                      0.67                   0.0                      0.00   \n",
       "\n",
       "   level  Class  \n",
       "0     21      0  \n",
       "1     21      0  \n",
       "2     21      0  \n",
       "3     21      0  \n",
       "4      4      0  \n",
       "\n",
       "[5 rows x 44 columns]"
      ]
     },
     "execution_count": 4,
     "metadata": {},
     "output_type": "execute_result"
    }
   ],
   "source": [
    "df_train.head()"
   ]
  },
  {
   "cell_type": "code",
   "execution_count": 5,
   "id": "2acfe6b5",
   "metadata": {},
   "outputs": [
    {
     "data": {
      "text/html": [
       "<div>\n",
       "<style scoped>\n",
       "    .dataframe tbody tr th:only-of-type {\n",
       "        vertical-align: middle;\n",
       "    }\n",
       "\n",
       "    .dataframe tbody tr th {\n",
       "        vertical-align: top;\n",
       "    }\n",
       "\n",
       "    .dataframe thead th {\n",
       "        text-align: right;\n",
       "    }\n",
       "</style>\n",
       "<table border=\"1\" class=\"dataframe\">\n",
       "  <thead>\n",
       "    <tr style=\"text-align: right;\">\n",
       "      <th></th>\n",
       "      <th>ID</th>\n",
       "      <th>duration</th>\n",
       "      <th>protocol_type</th>\n",
       "      <th>service</th>\n",
       "      <th>flag</th>\n",
       "      <th>src_bytes</th>\n",
       "      <th>dst_bytes</th>\n",
       "      <th>land</th>\n",
       "      <th>wrong_fragment</th>\n",
       "      <th>urgent</th>\n",
       "      <th>...</th>\n",
       "      <th>dst_host_srv_count</th>\n",
       "      <th>dst_host_same_srv_rate</th>\n",
       "      <th>dst_host_diff_srv_rate</th>\n",
       "      <th>dst_host_same_src_port_rate</th>\n",
       "      <th>dst_host_srv_diff_host_rate</th>\n",
       "      <th>dst_host_serror_rate</th>\n",
       "      <th>dst_host_srv_serror_rate</th>\n",
       "      <th>dst_host_rerror_rate</th>\n",
       "      <th>dst_host_srv_rerror_rate</th>\n",
       "      <th>level</th>\n",
       "    </tr>\n",
       "  </thead>\n",
       "  <tbody>\n",
       "    <tr>\n",
       "      <th>0</th>\n",
       "      <td>15831</td>\n",
       "      <td>0</td>\n",
       "      <td>tcp</td>\n",
       "      <td>http</td>\n",
       "      <td>REJ</td>\n",
       "      <td>0</td>\n",
       "      <td>0</td>\n",
       "      <td>0</td>\n",
       "      <td>0</td>\n",
       "      <td>0</td>\n",
       "      <td>...</td>\n",
       "      <td>236</td>\n",
       "      <td>1.00</td>\n",
       "      <td>0.00</td>\n",
       "      <td>0.09</td>\n",
       "      <td>0.01</td>\n",
       "      <td>0.0</td>\n",
       "      <td>0.0</td>\n",
       "      <td>1.0</td>\n",
       "      <td>0.07</td>\n",
       "      <td>21</td>\n",
       "    </tr>\n",
       "    <tr>\n",
       "      <th>1</th>\n",
       "      <td>12617</td>\n",
       "      <td>0</td>\n",
       "      <td>tcp</td>\n",
       "      <td>ftp_data</td>\n",
       "      <td>SF</td>\n",
       "      <td>151</td>\n",
       "      <td>0</td>\n",
       "      <td>0</td>\n",
       "      <td>0</td>\n",
       "      <td>0</td>\n",
       "      <td>...</td>\n",
       "      <td>37</td>\n",
       "      <td>0.33</td>\n",
       "      <td>0.07</td>\n",
       "      <td>0.33</td>\n",
       "      <td>0.05</td>\n",
       "      <td>0.0</td>\n",
       "      <td>0.0</td>\n",
       "      <td>0.0</td>\n",
       "      <td>0.00</td>\n",
       "      <td>20</td>\n",
       "    </tr>\n",
       "    <tr>\n",
       "      <th>2</th>\n",
       "      <td>16328</td>\n",
       "      <td>0</td>\n",
       "      <td>udp</td>\n",
       "      <td>domain_u</td>\n",
       "      <td>SF</td>\n",
       "      <td>44</td>\n",
       "      <td>139</td>\n",
       "      <td>0</td>\n",
       "      <td>0</td>\n",
       "      <td>0</td>\n",
       "      <td>...</td>\n",
       "      <td>255</td>\n",
       "      <td>1.00</td>\n",
       "      <td>0.00</td>\n",
       "      <td>0.00</td>\n",
       "      <td>0.00</td>\n",
       "      <td>0.0</td>\n",
       "      <td>0.0</td>\n",
       "      <td>0.0</td>\n",
       "      <td>0.00</td>\n",
       "      <td>21</td>\n",
       "    </tr>\n",
       "    <tr>\n",
       "      <th>3</th>\n",
       "      <td>11403</td>\n",
       "      <td>0</td>\n",
       "      <td>tcp</td>\n",
       "      <td>http</td>\n",
       "      <td>SF</td>\n",
       "      <td>251</td>\n",
       "      <td>4014</td>\n",
       "      <td>0</td>\n",
       "      <td>0</td>\n",
       "      <td>0</td>\n",
       "      <td>...</td>\n",
       "      <td>255</td>\n",
       "      <td>1.00</td>\n",
       "      <td>0.00</td>\n",
       "      <td>0.00</td>\n",
       "      <td>0.01</td>\n",
       "      <td>0.0</td>\n",
       "      <td>0.0</td>\n",
       "      <td>0.0</td>\n",
       "      <td>0.00</td>\n",
       "      <td>21</td>\n",
       "    </tr>\n",
       "    <tr>\n",
       "      <th>4</th>\n",
       "      <td>11891</td>\n",
       "      <td>0</td>\n",
       "      <td>tcp</td>\n",
       "      <td>smtp</td>\n",
       "      <td>SF</td>\n",
       "      <td>1317</td>\n",
       "      <td>367</td>\n",
       "      <td>0</td>\n",
       "      <td>0</td>\n",
       "      <td>0</td>\n",
       "      <td>...</td>\n",
       "      <td>166</td>\n",
       "      <td>0.80</td>\n",
       "      <td>0.40</td>\n",
       "      <td>0.20</td>\n",
       "      <td>0.02</td>\n",
       "      <td>0.0</td>\n",
       "      <td>0.0</td>\n",
       "      <td>0.0</td>\n",
       "      <td>0.00</td>\n",
       "      <td>21</td>\n",
       "    </tr>\n",
       "  </tbody>\n",
       "</table>\n",
       "<p>5 rows × 43 columns</p>\n",
       "</div>"
      ],
      "text/plain": [
       "      ID  duration protocol_type   service flag  src_bytes  dst_bytes  land  \\\n",
       "0  15831         0           tcp      http  REJ          0          0     0   \n",
       "1  12617         0           tcp  ftp_data   SF        151          0     0   \n",
       "2  16328         0           udp  domain_u   SF         44        139     0   \n",
       "3  11403         0           tcp      http   SF        251       4014     0   \n",
       "4  11891         0           tcp      smtp   SF       1317        367     0   \n",
       "\n",
       "   wrong_fragment  urgent  ...  dst_host_srv_count  dst_host_same_srv_rate  \\\n",
       "0               0       0  ...                 236                    1.00   \n",
       "1               0       0  ...                  37                    0.33   \n",
       "2               0       0  ...                 255                    1.00   \n",
       "3               0       0  ...                 255                    1.00   \n",
       "4               0       0  ...                 166                    0.80   \n",
       "\n",
       "   dst_host_diff_srv_rate  dst_host_same_src_port_rate  \\\n",
       "0                    0.00                         0.09   \n",
       "1                    0.07                         0.33   \n",
       "2                    0.00                         0.00   \n",
       "3                    0.00                         0.00   \n",
       "4                    0.40                         0.20   \n",
       "\n",
       "   dst_host_srv_diff_host_rate  dst_host_serror_rate  \\\n",
       "0                         0.01                   0.0   \n",
       "1                         0.05                   0.0   \n",
       "2                         0.00                   0.0   \n",
       "3                         0.01                   0.0   \n",
       "4                         0.02                   0.0   \n",
       "\n",
       "   dst_host_srv_serror_rate  dst_host_rerror_rate  dst_host_srv_rerror_rate  \\\n",
       "0                       0.0                   1.0                      0.07   \n",
       "1                       0.0                   0.0                      0.00   \n",
       "2                       0.0                   0.0                      0.00   \n",
       "3                       0.0                   0.0                      0.00   \n",
       "4                       0.0                   0.0                      0.00   \n",
       "\n",
       "   level  \n",
       "0     21  \n",
       "1     20  \n",
       "2     21  \n",
       "3     21  \n",
       "4     21  \n",
       "\n",
       "[5 rows x 43 columns]"
      ]
     },
     "execution_count": 5,
     "metadata": {},
     "output_type": "execute_result"
    }
   ],
   "source": [
    "df_test.head()"
   ]
  },
  {
   "cell_type": "code",
   "execution_count": 6,
   "id": "5028ece7",
   "metadata": {},
   "outputs": [
    {
     "data": {
      "text/plain": [
       "(17251, 44)"
      ]
     },
     "execution_count": 6,
     "metadata": {},
     "output_type": "execute_result"
    }
   ],
   "source": [
    "df_train.shape"
   ]
  },
  {
   "cell_type": "code",
   "execution_count": 7,
   "id": "3bff8ca9",
   "metadata": {},
   "outputs": [
    {
     "data": {
      "text/plain": [
       "(5751, 43)"
      ]
     },
     "execution_count": 7,
     "metadata": {},
     "output_type": "execute_result"
    }
   ],
   "source": [
    "df_test.shape"
   ]
  },
  {
   "cell_type": "markdown",
   "id": "d5113567",
   "metadata": {},
   "source": [
    "# data cleaning"
   ]
  },
  {
   "cell_type": "code",
   "execution_count": 8,
   "id": "0862f4c6",
   "metadata": {},
   "outputs": [
    {
     "data": {
      "text/plain": [
       "ID                             0\n",
       "duration                       0\n",
       "protocol_type                  0\n",
       "service                        0\n",
       "flag                           0\n",
       "src_bytes                      0\n",
       "dst_bytes                      0\n",
       "land                           0\n",
       "wrong_fragment                 0\n",
       "urgent                         0\n",
       "hot                            0\n",
       "num_failed_logins              0\n",
       "logged_in                      0\n",
       "num_compromised                0\n",
       "root_shell                     0\n",
       "su_attempted                   0\n",
       "num_root                       0\n",
       "num_file_creations             0\n",
       "num_shells                     0\n",
       "num_access_files               0\n",
       "num_outbound_cmds              0\n",
       "is_host_login                  0\n",
       "is_guest_login                 0\n",
       "count                          0\n",
       "srv_count                      0\n",
       "serror_rate                    0\n",
       "srv_serror_rate                0\n",
       "rerror_rate                    0\n",
       "srv_rerror_rate                0\n",
       "same_srv_rate                  0\n",
       "diff_srv_rate                  0\n",
       "srv_diff_host_rate             0\n",
       "dst_host_count                 0\n",
       "dst_host_srv_count             0\n",
       "dst_host_same_srv_rate         0\n",
       "dst_host_diff_srv_rate         0\n",
       "dst_host_same_src_port_rate    0\n",
       "dst_host_srv_diff_host_rate    0\n",
       "dst_host_serror_rate           0\n",
       "dst_host_srv_serror_rate       0\n",
       "dst_host_rerror_rate           0\n",
       "dst_host_srv_rerror_rate       0\n",
       "level                          0\n",
       "Class                          0\n",
       "dtype: int64"
      ]
     },
     "execution_count": 8,
     "metadata": {},
     "output_type": "execute_result"
    }
   ],
   "source": [
    "df_train.isna().sum()"
   ]
  },
  {
   "cell_type": "code",
   "execution_count": 9,
   "id": "b2886c5b",
   "metadata": {},
   "outputs": [
    {
     "data": {
      "text/plain": [
       "ID                             0\n",
       "duration                       0\n",
       "protocol_type                  0\n",
       "service                        0\n",
       "flag                           0\n",
       "src_bytes                      0\n",
       "dst_bytes                      0\n",
       "land                           0\n",
       "wrong_fragment                 0\n",
       "urgent                         0\n",
       "hot                            0\n",
       "num_failed_logins              0\n",
       "logged_in                      0\n",
       "num_compromised                0\n",
       "root_shell                     0\n",
       "su_attempted                   0\n",
       "num_root                       0\n",
       "num_file_creations             0\n",
       "num_shells                     0\n",
       "num_access_files               0\n",
       "num_outbound_cmds              0\n",
       "is_host_login                  0\n",
       "is_guest_login                 0\n",
       "count                          0\n",
       "srv_count                      0\n",
       "serror_rate                    0\n",
       "srv_serror_rate                0\n",
       "rerror_rate                    0\n",
       "srv_rerror_rate                0\n",
       "same_srv_rate                  0\n",
       "diff_srv_rate                  0\n",
       "srv_diff_host_rate             0\n",
       "dst_host_count                 0\n",
       "dst_host_srv_count             0\n",
       "dst_host_same_srv_rate         0\n",
       "dst_host_diff_srv_rate         0\n",
       "dst_host_same_src_port_rate    0\n",
       "dst_host_srv_diff_host_rate    0\n",
       "dst_host_serror_rate           0\n",
       "dst_host_srv_serror_rate       0\n",
       "dst_host_rerror_rate           0\n",
       "dst_host_srv_rerror_rate       0\n",
       "level                          0\n",
       "dtype: int64"
      ]
     },
     "execution_count": 9,
     "metadata": {},
     "output_type": "execute_result"
    }
   ],
   "source": [
    "df_test.isna().sum()"
   ]
  },
  {
   "cell_type": "code",
   "execution_count": 10,
   "id": "28db94e1",
   "metadata": {},
   "outputs": [
    {
     "name": "stdout",
     "output_type": "stream",
     "text": [
      "<class 'pandas.core.frame.DataFrame'>\n",
      "RangeIndex: 17251 entries, 0 to 17250\n",
      "Data columns (total 44 columns):\n",
      " #   Column                       Non-Null Count  Dtype  \n",
      "---  ------                       --------------  -----  \n",
      " 0   ID                           17251 non-null  int64  \n",
      " 1   duration                     17251 non-null  int64  \n",
      " 2   protocol_type                17251 non-null  object \n",
      " 3   service                      17251 non-null  object \n",
      " 4   flag                         17251 non-null  object \n",
      " 5   src_bytes                    17251 non-null  int64  \n",
      " 6   dst_bytes                    17251 non-null  int64  \n",
      " 7   land                         17251 non-null  int64  \n",
      " 8   wrong_fragment               17251 non-null  int64  \n",
      " 9   urgent                       17251 non-null  int64  \n",
      " 10  hot                          17251 non-null  int64  \n",
      " 11  num_failed_logins            17251 non-null  int64  \n",
      " 12  logged_in                    17251 non-null  int64  \n",
      " 13  num_compromised              17251 non-null  int64  \n",
      " 14  root_shell                   17251 non-null  int64  \n",
      " 15  su_attempted                 17251 non-null  int64  \n",
      " 16  num_root                     17251 non-null  int64  \n",
      " 17  num_file_creations           17251 non-null  int64  \n",
      " 18  num_shells                   17251 non-null  int64  \n",
      " 19  num_access_files             17251 non-null  int64  \n",
      " 20  num_outbound_cmds            17251 non-null  int64  \n",
      " 21  is_host_login                17251 non-null  int64  \n",
      " 22  is_guest_login               17251 non-null  int64  \n",
      " 23  count                        17251 non-null  int64  \n",
      " 24  srv_count                    17251 non-null  int64  \n",
      " 25  serror_rate                  17251 non-null  float64\n",
      " 26  srv_serror_rate              17251 non-null  float64\n",
      " 27  rerror_rate                  17251 non-null  float64\n",
      " 28  srv_rerror_rate              17251 non-null  float64\n",
      " 29  same_srv_rate                17251 non-null  float64\n",
      " 30  diff_srv_rate                17251 non-null  float64\n",
      " 31  srv_diff_host_rate           17251 non-null  float64\n",
      " 32  dst_host_count               17251 non-null  int64  \n",
      " 33  dst_host_srv_count           17251 non-null  int64  \n",
      " 34  dst_host_same_srv_rate       17251 non-null  float64\n",
      " 35  dst_host_diff_srv_rate       17251 non-null  float64\n",
      " 36  dst_host_same_src_port_rate  17251 non-null  float64\n",
      " 37  dst_host_srv_diff_host_rate  17251 non-null  float64\n",
      " 38  dst_host_serror_rate         17251 non-null  float64\n",
      " 39  dst_host_srv_serror_rate     17251 non-null  float64\n",
      " 40  dst_host_rerror_rate         17251 non-null  float64\n",
      " 41  dst_host_srv_rerror_rate     17251 non-null  float64\n",
      " 42  level                        17251 non-null  int64  \n",
      " 43  Class                        17251 non-null  int64  \n",
      "dtypes: float64(15), int64(26), object(3)\n",
      "memory usage: 5.8+ MB\n"
     ]
    }
   ],
   "source": [
    "df_train.info()"
   ]
  },
  {
   "cell_type": "code",
   "execution_count": 11,
   "id": "85e0d232",
   "metadata": {},
   "outputs": [
    {
     "name": "stdout",
     "output_type": "stream",
     "text": [
      "<class 'pandas.core.frame.DataFrame'>\n",
      "RangeIndex: 5751 entries, 0 to 5750\n",
      "Data columns (total 43 columns):\n",
      " #   Column                       Non-Null Count  Dtype  \n",
      "---  ------                       --------------  -----  \n",
      " 0   ID                           5751 non-null   int64  \n",
      " 1   duration                     5751 non-null   int64  \n",
      " 2   protocol_type                5751 non-null   object \n",
      " 3   service                      5751 non-null   object \n",
      " 4   flag                         5751 non-null   object \n",
      " 5   src_bytes                    5751 non-null   int64  \n",
      " 6   dst_bytes                    5751 non-null   int64  \n",
      " 7   land                         5751 non-null   int64  \n",
      " 8   wrong_fragment               5751 non-null   int64  \n",
      " 9   urgent                       5751 non-null   int64  \n",
      " 10  hot                          5751 non-null   int64  \n",
      " 11  num_failed_logins            5751 non-null   int64  \n",
      " 12  logged_in                    5751 non-null   int64  \n",
      " 13  num_compromised              5751 non-null   int64  \n",
      " 14  root_shell                   5751 non-null   int64  \n",
      " 15  su_attempted                 5751 non-null   int64  \n",
      " 16  num_root                     5751 non-null   int64  \n",
      " 17  num_file_creations           5751 non-null   int64  \n",
      " 18  num_shells                   5751 non-null   int64  \n",
      " 19  num_access_files             5751 non-null   int64  \n",
      " 20  num_outbound_cmds            5751 non-null   int64  \n",
      " 21  is_host_login                5751 non-null   int64  \n",
      " 22  is_guest_login               5751 non-null   int64  \n",
      " 23  count                        5751 non-null   int64  \n",
      " 24  srv_count                    5751 non-null   int64  \n",
      " 25  serror_rate                  5751 non-null   float64\n",
      " 26  srv_serror_rate              5751 non-null   float64\n",
      " 27  rerror_rate                  5751 non-null   float64\n",
      " 28  srv_rerror_rate              5751 non-null   float64\n",
      " 29  same_srv_rate                5751 non-null   float64\n",
      " 30  diff_srv_rate                5751 non-null   float64\n",
      " 31  srv_diff_host_rate           5751 non-null   float64\n",
      " 32  dst_host_count               5751 non-null   int64  \n",
      " 33  dst_host_srv_count           5751 non-null   int64  \n",
      " 34  dst_host_same_srv_rate       5751 non-null   float64\n",
      " 35  dst_host_diff_srv_rate       5751 non-null   float64\n",
      " 36  dst_host_same_src_port_rate  5751 non-null   float64\n",
      " 37  dst_host_srv_diff_host_rate  5751 non-null   float64\n",
      " 38  dst_host_serror_rate         5751 non-null   float64\n",
      " 39  dst_host_srv_serror_rate     5751 non-null   float64\n",
      " 40  dst_host_rerror_rate         5751 non-null   float64\n",
      " 41  dst_host_srv_rerror_rate     5751 non-null   float64\n",
      " 42  level                        5751 non-null   int64  \n",
      "dtypes: float64(15), int64(25), object(3)\n",
      "memory usage: 1.9+ MB\n"
     ]
    }
   ],
   "source": [
    "df_test.info()"
   ]
  },
  {
   "cell_type": "code",
   "execution_count": 12,
   "id": "71dfa2c0",
   "metadata": {},
   "outputs": [
    {
     "data": {
      "text/html": [
       "<div>\n",
       "<style scoped>\n",
       "    .dataframe tbody tr th:only-of-type {\n",
       "        vertical-align: middle;\n",
       "    }\n",
       "\n",
       "    .dataframe tbody tr th {\n",
       "        vertical-align: top;\n",
       "    }\n",
       "\n",
       "    .dataframe thead th {\n",
       "        text-align: right;\n",
       "    }\n",
       "</style>\n",
       "<table border=\"1\" class=\"dataframe\">\n",
       "  <thead>\n",
       "    <tr style=\"text-align: right;\">\n",
       "      <th></th>\n",
       "      <th>ID</th>\n",
       "      <th>duration</th>\n",
       "      <th>src_bytes</th>\n",
       "      <th>dst_bytes</th>\n",
       "      <th>land</th>\n",
       "      <th>wrong_fragment</th>\n",
       "      <th>urgent</th>\n",
       "      <th>hot</th>\n",
       "      <th>num_failed_logins</th>\n",
       "      <th>logged_in</th>\n",
       "      <th>...</th>\n",
       "      <th>dst_host_same_srv_rate</th>\n",
       "      <th>dst_host_diff_srv_rate</th>\n",
       "      <th>dst_host_same_src_port_rate</th>\n",
       "      <th>dst_host_srv_diff_host_rate</th>\n",
       "      <th>dst_host_serror_rate</th>\n",
       "      <th>dst_host_srv_serror_rate</th>\n",
       "      <th>dst_host_rerror_rate</th>\n",
       "      <th>dst_host_srv_rerror_rate</th>\n",
       "      <th>level</th>\n",
       "      <th>Class</th>\n",
       "    </tr>\n",
       "  </thead>\n",
       "  <tbody>\n",
       "    <tr>\n",
       "      <th>count</th>\n",
       "      <td>17251.000000</td>\n",
       "      <td>17251.000000</td>\n",
       "      <td>1.725100e+04</td>\n",
       "      <td>1.725100e+04</td>\n",
       "      <td>17251.000000</td>\n",
       "      <td>17251.000000</td>\n",
       "      <td>17251.0</td>\n",
       "      <td>17251.000000</td>\n",
       "      <td>17251.000000</td>\n",
       "      <td>17251.000000</td>\n",
       "      <td>...</td>\n",
       "      <td>17251.000000</td>\n",
       "      <td>17251.000000</td>\n",
       "      <td>17251.000000</td>\n",
       "      <td>17251.000000</td>\n",
       "      <td>17251.000000</td>\n",
       "      <td>17251.000000</td>\n",
       "      <td>17251.000000</td>\n",
       "      <td>17251.000000</td>\n",
       "      <td>17251.000000</td>\n",
       "      <td>17251.000000</td>\n",
       "    </tr>\n",
       "    <tr>\n",
       "      <th>mean</th>\n",
       "      <td>11453.391977</td>\n",
       "      <td>300.978958</td>\n",
       "      <td>3.107782e+04</td>\n",
       "      <td>3.531403e+03</td>\n",
       "      <td>0.000116</td>\n",
       "      <td>0.025274</td>\n",
       "      <td>0.0</td>\n",
       "      <td>0.184627</td>\n",
       "      <td>0.001101</td>\n",
       "      <td>0.388151</td>\n",
       "      <td>...</td>\n",
       "      <td>0.513184</td>\n",
       "      <td>0.083868</td>\n",
       "      <td>0.147851</td>\n",
       "      <td>0.031412</td>\n",
       "      <td>0.294951</td>\n",
       "      <td>0.289118</td>\n",
       "      <td>0.116886</td>\n",
       "      <td>0.118235</td>\n",
       "      <td>19.474291</td>\n",
       "      <td>0.478291</td>\n",
       "    </tr>\n",
       "    <tr>\n",
       "      <th>std</th>\n",
       "      <td>6632.391641</td>\n",
       "      <td>2646.007952</td>\n",
       "      <td>2.910731e+06</td>\n",
       "      <td>9.012346e+04</td>\n",
       "      <td>0.010767</td>\n",
       "      <td>0.268866</td>\n",
       "      <td>0.0</td>\n",
       "      <td>2.081791</td>\n",
       "      <td>0.043724</td>\n",
       "      <td>0.487343</td>\n",
       "      <td>...</td>\n",
       "      <td>0.449423</td>\n",
       "      <td>0.189233</td>\n",
       "      <td>0.309810</td>\n",
       "      <td>0.109439</td>\n",
       "      <td>0.449514</td>\n",
       "      <td>0.450570</td>\n",
       "      <td>0.304704</td>\n",
       "      <td>0.316774</td>\n",
       "      <td>2.327471</td>\n",
       "      <td>0.499543</td>\n",
       "    </tr>\n",
       "    <tr>\n",
       "      <th>min</th>\n",
       "      <td>0.000000</td>\n",
       "      <td>0.000000</td>\n",
       "      <td>0.000000e+00</td>\n",
       "      <td>0.000000e+00</td>\n",
       "      <td>0.000000</td>\n",
       "      <td>0.000000</td>\n",
       "      <td>0.0</td>\n",
       "      <td>0.000000</td>\n",
       "      <td>0.000000</td>\n",
       "      <td>0.000000</td>\n",
       "      <td>...</td>\n",
       "      <td>0.000000</td>\n",
       "      <td>0.000000</td>\n",
       "      <td>0.000000</td>\n",
       "      <td>0.000000</td>\n",
       "      <td>0.000000</td>\n",
       "      <td>0.000000</td>\n",
       "      <td>0.000000</td>\n",
       "      <td>0.000000</td>\n",
       "      <td>0.000000</td>\n",
       "      <td>0.000000</td>\n",
       "    </tr>\n",
       "    <tr>\n",
       "      <th>25%</th>\n",
       "      <td>5720.500000</td>\n",
       "      <td>0.000000</td>\n",
       "      <td>0.000000e+00</td>\n",
       "      <td>0.000000e+00</td>\n",
       "      <td>0.000000</td>\n",
       "      <td>0.000000</td>\n",
       "      <td>0.0</td>\n",
       "      <td>0.000000</td>\n",
       "      <td>0.000000</td>\n",
       "      <td>0.000000</td>\n",
       "      <td>...</td>\n",
       "      <td>0.050000</td>\n",
       "      <td>0.000000</td>\n",
       "      <td>0.000000</td>\n",
       "      <td>0.000000</td>\n",
       "      <td>0.000000</td>\n",
       "      <td>0.000000</td>\n",
       "      <td>0.000000</td>\n",
       "      <td>0.000000</td>\n",
       "      <td>18.000000</td>\n",
       "      <td>0.000000</td>\n",
       "    </tr>\n",
       "    <tr>\n",
       "      <th>50%</th>\n",
       "      <td>11409.000000</td>\n",
       "      <td>0.000000</td>\n",
       "      <td>4.400000e+01</td>\n",
       "      <td>0.000000e+00</td>\n",
       "      <td>0.000000</td>\n",
       "      <td>0.000000</td>\n",
       "      <td>0.0</td>\n",
       "      <td>0.000000</td>\n",
       "      <td>0.000000</td>\n",
       "      <td>0.000000</td>\n",
       "      <td>...</td>\n",
       "      <td>0.470000</td>\n",
       "      <td>0.030000</td>\n",
       "      <td>0.000000</td>\n",
       "      <td>0.000000</td>\n",
       "      <td>0.000000</td>\n",
       "      <td>0.000000</td>\n",
       "      <td>0.000000</td>\n",
       "      <td>0.000000</td>\n",
       "      <td>20.000000</td>\n",
       "      <td>0.000000</td>\n",
       "    </tr>\n",
       "    <tr>\n",
       "      <th>75%</th>\n",
       "      <td>17197.500000</td>\n",
       "      <td>0.000000</td>\n",
       "      <td>2.770000e+02</td>\n",
       "      <td>4.920000e+02</td>\n",
       "      <td>0.000000</td>\n",
       "      <td>0.000000</td>\n",
       "      <td>0.0</td>\n",
       "      <td>0.000000</td>\n",
       "      <td>0.000000</td>\n",
       "      <td>1.000000</td>\n",
       "      <td>...</td>\n",
       "      <td>1.000000</td>\n",
       "      <td>0.070000</td>\n",
       "      <td>0.060000</td>\n",
       "      <td>0.010000</td>\n",
       "      <td>1.000000</td>\n",
       "      <td>1.000000</td>\n",
       "      <td>0.000000</td>\n",
       "      <td>0.000000</td>\n",
       "      <td>21.000000</td>\n",
       "      <td>1.000000</td>\n",
       "    </tr>\n",
       "    <tr>\n",
       "      <th>max</th>\n",
       "      <td>23001.000000</td>\n",
       "      <td>42862.000000</td>\n",
       "      <td>3.817091e+08</td>\n",
       "      <td>5.151385e+06</td>\n",
       "      <td>1.000000</td>\n",
       "      <td>3.000000</td>\n",
       "      <td>0.0</td>\n",
       "      <td>77.000000</td>\n",
       "      <td>4.000000</td>\n",
       "      <td>1.000000</td>\n",
       "      <td>...</td>\n",
       "      <td>1.000000</td>\n",
       "      <td>1.000000</td>\n",
       "      <td>1.000000</td>\n",
       "      <td>1.000000</td>\n",
       "      <td>1.000000</td>\n",
       "      <td>1.000000</td>\n",
       "      <td>1.000000</td>\n",
       "      <td>1.000000</td>\n",
       "      <td>21.000000</td>\n",
       "      <td>1.000000</td>\n",
       "    </tr>\n",
       "  </tbody>\n",
       "</table>\n",
       "<p>8 rows × 41 columns</p>\n",
       "</div>"
      ],
      "text/plain": [
       "                 ID      duration     src_bytes     dst_bytes          land  \\\n",
       "count  17251.000000  17251.000000  1.725100e+04  1.725100e+04  17251.000000   \n",
       "mean   11453.391977    300.978958  3.107782e+04  3.531403e+03      0.000116   \n",
       "std     6632.391641   2646.007952  2.910731e+06  9.012346e+04      0.010767   \n",
       "min        0.000000      0.000000  0.000000e+00  0.000000e+00      0.000000   \n",
       "25%     5720.500000      0.000000  0.000000e+00  0.000000e+00      0.000000   \n",
       "50%    11409.000000      0.000000  4.400000e+01  0.000000e+00      0.000000   \n",
       "75%    17197.500000      0.000000  2.770000e+02  4.920000e+02      0.000000   \n",
       "max    23001.000000  42862.000000  3.817091e+08  5.151385e+06      1.000000   \n",
       "\n",
       "       wrong_fragment   urgent           hot  num_failed_logins     logged_in  \\\n",
       "count    17251.000000  17251.0  17251.000000       17251.000000  17251.000000   \n",
       "mean         0.025274      0.0      0.184627           0.001101      0.388151   \n",
       "std          0.268866      0.0      2.081791           0.043724      0.487343   \n",
       "min          0.000000      0.0      0.000000           0.000000      0.000000   \n",
       "25%          0.000000      0.0      0.000000           0.000000      0.000000   \n",
       "50%          0.000000      0.0      0.000000           0.000000      0.000000   \n",
       "75%          0.000000      0.0      0.000000           0.000000      1.000000   \n",
       "max          3.000000      0.0     77.000000           4.000000      1.000000   \n",
       "\n",
       "       ...  dst_host_same_srv_rate  dst_host_diff_srv_rate  \\\n",
       "count  ...            17251.000000            17251.000000   \n",
       "mean   ...                0.513184                0.083868   \n",
       "std    ...                0.449423                0.189233   \n",
       "min    ...                0.000000                0.000000   \n",
       "25%    ...                0.050000                0.000000   \n",
       "50%    ...                0.470000                0.030000   \n",
       "75%    ...                1.000000                0.070000   \n",
       "max    ...                1.000000                1.000000   \n",
       "\n",
       "       dst_host_same_src_port_rate  dst_host_srv_diff_host_rate  \\\n",
       "count                 17251.000000                 17251.000000   \n",
       "mean                      0.147851                     0.031412   \n",
       "std                       0.309810                     0.109439   \n",
       "min                       0.000000                     0.000000   \n",
       "25%                       0.000000                     0.000000   \n",
       "50%                       0.000000                     0.000000   \n",
       "75%                       0.060000                     0.010000   \n",
       "max                       1.000000                     1.000000   \n",
       "\n",
       "       dst_host_serror_rate  dst_host_srv_serror_rate  dst_host_rerror_rate  \\\n",
       "count          17251.000000              17251.000000          17251.000000   \n",
       "mean               0.294951                  0.289118              0.116886   \n",
       "std                0.449514                  0.450570              0.304704   \n",
       "min                0.000000                  0.000000              0.000000   \n",
       "25%                0.000000                  0.000000              0.000000   \n",
       "50%                0.000000                  0.000000              0.000000   \n",
       "75%                1.000000                  1.000000              0.000000   \n",
       "max                1.000000                  1.000000              1.000000   \n",
       "\n",
       "       dst_host_srv_rerror_rate         level         Class  \n",
       "count              17251.000000  17251.000000  17251.000000  \n",
       "mean                   0.118235     19.474291      0.478291  \n",
       "std                    0.316774      2.327471      0.499543  \n",
       "min                    0.000000      0.000000      0.000000  \n",
       "25%                    0.000000     18.000000      0.000000  \n",
       "50%                    0.000000     20.000000      0.000000  \n",
       "75%                    0.000000     21.000000      1.000000  \n",
       "max                    1.000000     21.000000      1.000000  \n",
       "\n",
       "[8 rows x 41 columns]"
      ]
     },
     "execution_count": 12,
     "metadata": {},
     "output_type": "execute_result"
    }
   ],
   "source": [
    "df_train.describe()"
   ]
  },
  {
   "cell_type": "code",
   "execution_count": 13,
   "id": "55899573",
   "metadata": {},
   "outputs": [
    {
     "data": {
      "text/html": [
       "<div>\n",
       "<style scoped>\n",
       "    .dataframe tbody tr th:only-of-type {\n",
       "        vertical-align: middle;\n",
       "    }\n",
       "\n",
       "    .dataframe tbody tr th {\n",
       "        vertical-align: top;\n",
       "    }\n",
       "\n",
       "    .dataframe thead th {\n",
       "        text-align: right;\n",
       "    }\n",
       "</style>\n",
       "<table border=\"1\" class=\"dataframe\">\n",
       "  <thead>\n",
       "    <tr style=\"text-align: right;\">\n",
       "      <th></th>\n",
       "      <th>ID</th>\n",
       "      <th>duration</th>\n",
       "      <th>src_bytes</th>\n",
       "      <th>dst_bytes</th>\n",
       "      <th>land</th>\n",
       "      <th>wrong_fragment</th>\n",
       "      <th>urgent</th>\n",
       "      <th>hot</th>\n",
       "      <th>num_failed_logins</th>\n",
       "      <th>logged_in</th>\n",
       "      <th>...</th>\n",
       "      <th>dst_host_srv_count</th>\n",
       "      <th>dst_host_same_srv_rate</th>\n",
       "      <th>dst_host_diff_srv_rate</th>\n",
       "      <th>dst_host_same_src_port_rate</th>\n",
       "      <th>dst_host_srv_diff_host_rate</th>\n",
       "      <th>dst_host_serror_rate</th>\n",
       "      <th>dst_host_srv_serror_rate</th>\n",
       "      <th>dst_host_rerror_rate</th>\n",
       "      <th>dst_host_srv_rerror_rate</th>\n",
       "      <th>level</th>\n",
       "    </tr>\n",
       "  </thead>\n",
       "  <tbody>\n",
       "    <tr>\n",
       "      <th>count</th>\n",
       "      <td>5751.000000</td>\n",
       "      <td>5751.000000</td>\n",
       "      <td>5.751000e+03</td>\n",
       "      <td>5.751000e+03</td>\n",
       "      <td>5751.0</td>\n",
       "      <td>5751.000000</td>\n",
       "      <td>5751.000000</td>\n",
       "      <td>5751.000000</td>\n",
       "      <td>5751.000000</td>\n",
       "      <td>5751.000000</td>\n",
       "      <td>...</td>\n",
       "      <td>5751.000000</td>\n",
       "      <td>5751.000000</td>\n",
       "      <td>5751.000000</td>\n",
       "      <td>5751.000000</td>\n",
       "      <td>5751.000000</td>\n",
       "      <td>5751.000000</td>\n",
       "      <td>5751.000000</td>\n",
       "      <td>5751.000000</td>\n",
       "      <td>5751.000000</td>\n",
       "      <td>5751.000000</td>\n",
       "    </tr>\n",
       "    <tr>\n",
       "      <th>mean</th>\n",
       "      <td>11641.807686</td>\n",
       "      <td>325.848548</td>\n",
       "      <td>1.032655e+04</td>\n",
       "      <td>3.758329e+03</td>\n",
       "      <td>0.0</td>\n",
       "      <td>0.021214</td>\n",
       "      <td>0.000174</td>\n",
       "      <td>0.242567</td>\n",
       "      <td>0.001391</td>\n",
       "      <td>0.381673</td>\n",
       "      <td>...</td>\n",
       "      <td>111.997392</td>\n",
       "      <td>0.507872</td>\n",
       "      <td>0.086406</td>\n",
       "      <td>0.148341</td>\n",
       "      <td>0.032723</td>\n",
       "      <td>0.288206</td>\n",
       "      <td>0.281617</td>\n",
       "      <td>0.126794</td>\n",
       "      <td>0.125582</td>\n",
       "      <td>19.446009</td>\n",
       "    </tr>\n",
       "    <tr>\n",
       "      <th>std</th>\n",
       "      <td>6662.345769</td>\n",
       "      <td>2845.948746</td>\n",
       "      <td>1.919800e+05</td>\n",
       "      <td>9.859115e+04</td>\n",
       "      <td>0.0</td>\n",
       "      <td>0.243672</td>\n",
       "      <td>0.013186</td>\n",
       "      <td>2.404511</td>\n",
       "      <td>0.052732</td>\n",
       "      <td>0.485839</td>\n",
       "      <td>...</td>\n",
       "      <td>110.170809</td>\n",
       "      <td>0.447719</td>\n",
       "      <td>0.191955</td>\n",
       "      <td>0.308310</td>\n",
       "      <td>0.116913</td>\n",
       "      <td>0.446535</td>\n",
       "      <td>0.446816</td>\n",
       "      <td>0.316052</td>\n",
       "      <td>0.325594</td>\n",
       "      <td>2.345207</td>\n",
       "    </tr>\n",
       "    <tr>\n",
       "      <th>min</th>\n",
       "      <td>1.000000</td>\n",
       "      <td>0.000000</td>\n",
       "      <td>0.000000e+00</td>\n",
       "      <td>0.000000e+00</td>\n",
       "      <td>0.0</td>\n",
       "      <td>0.000000</td>\n",
       "      <td>0.000000</td>\n",
       "      <td>0.000000</td>\n",
       "      <td>0.000000</td>\n",
       "      <td>0.000000</td>\n",
       "      <td>...</td>\n",
       "      <td>1.000000</td>\n",
       "      <td>0.000000</td>\n",
       "      <td>0.000000</td>\n",
       "      <td>0.000000</td>\n",
       "      <td>0.000000</td>\n",
       "      <td>0.000000</td>\n",
       "      <td>0.000000</td>\n",
       "      <td>0.000000</td>\n",
       "      <td>0.000000</td>\n",
       "      <td>0.000000</td>\n",
       "    </tr>\n",
       "    <tr>\n",
       "      <th>25%</th>\n",
       "      <td>5862.000000</td>\n",
       "      <td>0.000000</td>\n",
       "      <td>0.000000e+00</td>\n",
       "      <td>0.000000e+00</td>\n",
       "      <td>0.0</td>\n",
       "      <td>0.000000</td>\n",
       "      <td>0.000000</td>\n",
       "      <td>0.000000</td>\n",
       "      <td>0.000000</td>\n",
       "      <td>0.000000</td>\n",
       "      <td>...</td>\n",
       "      <td>10.000000</td>\n",
       "      <td>0.040000</td>\n",
       "      <td>0.000000</td>\n",
       "      <td>0.000000</td>\n",
       "      <td>0.000000</td>\n",
       "      <td>0.000000</td>\n",
       "      <td>0.000000</td>\n",
       "      <td>0.000000</td>\n",
       "      <td>0.000000</td>\n",
       "      <td>18.000000</td>\n",
       "    </tr>\n",
       "    <tr>\n",
       "      <th>50%</th>\n",
       "      <td>11778.000000</td>\n",
       "      <td>0.000000</td>\n",
       "      <td>4.300000e+01</td>\n",
       "      <td>0.000000e+00</td>\n",
       "      <td>0.0</td>\n",
       "      <td>0.000000</td>\n",
       "      <td>0.000000</td>\n",
       "      <td>0.000000</td>\n",
       "      <td>0.000000</td>\n",
       "      <td>0.000000</td>\n",
       "      <td>...</td>\n",
       "      <td>54.000000</td>\n",
       "      <td>0.430000</td>\n",
       "      <td>0.030000</td>\n",
       "      <td>0.000000</td>\n",
       "      <td>0.000000</td>\n",
       "      <td>0.000000</td>\n",
       "      <td>0.000000</td>\n",
       "      <td>0.000000</td>\n",
       "      <td>0.000000</td>\n",
       "      <td>20.000000</td>\n",
       "    </tr>\n",
       "    <tr>\n",
       "      <th>75%</th>\n",
       "      <td>17438.500000</td>\n",
       "      <td>0.000000</td>\n",
       "      <td>2.640000e+02</td>\n",
       "      <td>4.735000e+02</td>\n",
       "      <td>0.0</td>\n",
       "      <td>0.000000</td>\n",
       "      <td>0.000000</td>\n",
       "      <td>0.000000</td>\n",
       "      <td>0.000000</td>\n",
       "      <td>1.000000</td>\n",
       "      <td>...</td>\n",
       "      <td>255.000000</td>\n",
       "      <td>1.000000</td>\n",
       "      <td>0.070000</td>\n",
       "      <td>0.060000</td>\n",
       "      <td>0.010000</td>\n",
       "      <td>1.000000</td>\n",
       "      <td>1.000000</td>\n",
       "      <td>0.000000</td>\n",
       "      <td>0.000000</td>\n",
       "      <td>21.000000</td>\n",
       "    </tr>\n",
       "    <tr>\n",
       "      <th>max</th>\n",
       "      <td>22998.000000</td>\n",
       "      <td>41802.000000</td>\n",
       "      <td>7.248552e+06</td>\n",
       "      <td>5.131424e+06</td>\n",
       "      <td>0.0</td>\n",
       "      <td>3.000000</td>\n",
       "      <td>1.000000</td>\n",
       "      <td>30.000000</td>\n",
       "      <td>3.000000</td>\n",
       "      <td>1.000000</td>\n",
       "      <td>...</td>\n",
       "      <td>255.000000</td>\n",
       "      <td>1.000000</td>\n",
       "      <td>1.000000</td>\n",
       "      <td>1.000000</td>\n",
       "      <td>1.000000</td>\n",
       "      <td>1.000000</td>\n",
       "      <td>1.000000</td>\n",
       "      <td>1.000000</td>\n",
       "      <td>1.000000</td>\n",
       "      <td>21.000000</td>\n",
       "    </tr>\n",
       "  </tbody>\n",
       "</table>\n",
       "<p>8 rows × 40 columns</p>\n",
       "</div>"
      ],
      "text/plain": [
       "                 ID      duration     src_bytes     dst_bytes    land  \\\n",
       "count   5751.000000   5751.000000  5.751000e+03  5.751000e+03  5751.0   \n",
       "mean   11641.807686    325.848548  1.032655e+04  3.758329e+03     0.0   \n",
       "std     6662.345769   2845.948746  1.919800e+05  9.859115e+04     0.0   \n",
       "min        1.000000      0.000000  0.000000e+00  0.000000e+00     0.0   \n",
       "25%     5862.000000      0.000000  0.000000e+00  0.000000e+00     0.0   \n",
       "50%    11778.000000      0.000000  4.300000e+01  0.000000e+00     0.0   \n",
       "75%    17438.500000      0.000000  2.640000e+02  4.735000e+02     0.0   \n",
       "max    22998.000000  41802.000000  7.248552e+06  5.131424e+06     0.0   \n",
       "\n",
       "       wrong_fragment       urgent          hot  num_failed_logins  \\\n",
       "count     5751.000000  5751.000000  5751.000000        5751.000000   \n",
       "mean         0.021214     0.000174     0.242567           0.001391   \n",
       "std          0.243672     0.013186     2.404511           0.052732   \n",
       "min          0.000000     0.000000     0.000000           0.000000   \n",
       "25%          0.000000     0.000000     0.000000           0.000000   \n",
       "50%          0.000000     0.000000     0.000000           0.000000   \n",
       "75%          0.000000     0.000000     0.000000           0.000000   \n",
       "max          3.000000     1.000000    30.000000           3.000000   \n",
       "\n",
       "         logged_in  ...  dst_host_srv_count  dst_host_same_srv_rate  \\\n",
       "count  5751.000000  ...         5751.000000             5751.000000   \n",
       "mean      0.381673  ...          111.997392                0.507872   \n",
       "std       0.485839  ...          110.170809                0.447719   \n",
       "min       0.000000  ...            1.000000                0.000000   \n",
       "25%       0.000000  ...           10.000000                0.040000   \n",
       "50%       0.000000  ...           54.000000                0.430000   \n",
       "75%       1.000000  ...          255.000000                1.000000   \n",
       "max       1.000000  ...          255.000000                1.000000   \n",
       "\n",
       "       dst_host_diff_srv_rate  dst_host_same_src_port_rate  \\\n",
       "count             5751.000000                  5751.000000   \n",
       "mean                 0.086406                     0.148341   \n",
       "std                  0.191955                     0.308310   \n",
       "min                  0.000000                     0.000000   \n",
       "25%                  0.000000                     0.000000   \n",
       "50%                  0.030000                     0.000000   \n",
       "75%                  0.070000                     0.060000   \n",
       "max                  1.000000                     1.000000   \n",
       "\n",
       "       dst_host_srv_diff_host_rate  dst_host_serror_rate  \\\n",
       "count                  5751.000000           5751.000000   \n",
       "mean                      0.032723              0.288206   \n",
       "std                       0.116913              0.446535   \n",
       "min                       0.000000              0.000000   \n",
       "25%                       0.000000              0.000000   \n",
       "50%                       0.000000              0.000000   \n",
       "75%                       0.010000              1.000000   \n",
       "max                       1.000000              1.000000   \n",
       "\n",
       "       dst_host_srv_serror_rate  dst_host_rerror_rate  \\\n",
       "count               5751.000000           5751.000000   \n",
       "mean                   0.281617              0.126794   \n",
       "std                    0.446816              0.316052   \n",
       "min                    0.000000              0.000000   \n",
       "25%                    0.000000              0.000000   \n",
       "50%                    0.000000              0.000000   \n",
       "75%                    1.000000              0.000000   \n",
       "max                    1.000000              1.000000   \n",
       "\n",
       "       dst_host_srv_rerror_rate        level  \n",
       "count               5751.000000  5751.000000  \n",
       "mean                   0.125582    19.446009  \n",
       "std                    0.325594     2.345207  \n",
       "min                    0.000000     0.000000  \n",
       "25%                    0.000000    18.000000  \n",
       "50%                    0.000000    20.000000  \n",
       "75%                    0.000000    21.000000  \n",
       "max                    1.000000    21.000000  \n",
       "\n",
       "[8 rows x 40 columns]"
      ]
     },
     "execution_count": 13,
     "metadata": {},
     "output_type": "execute_result"
    }
   ],
   "source": [
    "df_test.describe()"
   ]
  },
  {
   "cell_type": "code",
   "execution_count": 14,
   "id": "f63ee0e0",
   "metadata": {},
   "outputs": [
    {
     "data": {
      "text/plain": [
       "ID                             17251\n",
       "duration                         539\n",
       "protocol_type                      3\n",
       "service                           66\n",
       "flag                              11\n",
       "src_bytes                       1338\n",
       "dst_bytes                       3051\n",
       "land                               2\n",
       "wrong_fragment                     3\n",
       "urgent                             1\n",
       "hot                               18\n",
       "num_failed_logins                  4\n",
       "logged_in                          2\n",
       "num_compromised                   22\n",
       "root_shell                         2\n",
       "su_attempted                       3\n",
       "num_root                          22\n",
       "num_file_creations                16\n",
       "num_shells                         2\n",
       "num_access_files                   7\n",
       "num_outbound_cmds                  1\n",
       "is_host_login                      1\n",
       "is_guest_login                     2\n",
       "count                            442\n",
       "srv_count                        382\n",
       "serror_rate                       67\n",
       "srv_serror_rate                   49\n",
       "rerror_rate                       70\n",
       "srv_rerror_rate                   38\n",
       "same_srv_rate                     93\n",
       "diff_srv_rate                     75\n",
       "srv_diff_host_rate                56\n",
       "dst_host_count                   256\n",
       "dst_host_srv_count               256\n",
       "dst_host_same_srv_rate           101\n",
       "dst_host_diff_srv_rate           101\n",
       "dst_host_same_src_port_rate      101\n",
       "dst_host_srv_diff_host_rate       60\n",
       "dst_host_serror_rate              97\n",
       "dst_host_srv_serror_rate          82\n",
       "dst_host_rerror_rate             101\n",
       "dst_host_srv_rerror_rate          95\n",
       "level                             22\n",
       "Class                              2\n",
       "dtype: int64"
      ]
     },
     "execution_count": 14,
     "metadata": {},
     "output_type": "execute_result"
    }
   ],
   "source": [
    "df_train.nunique()"
   ]
  },
  {
   "cell_type": "markdown",
   "id": "0f8b1ec8",
   "metadata": {},
   "source": [
    "# Data Cleaning"
   ]
  },
  {
   "cell_type": "code",
   "execution_count": 15,
   "id": "f5603a36",
   "metadata": {},
   "outputs": [],
   "source": [
    "df_train.drop(['urgent','is_host_login','num_outbound_cmds'],axis=1,inplace=True)"
   ]
  },
  {
   "cell_type": "code",
   "execution_count": 16,
   "id": "1ad4d7b2",
   "metadata": {},
   "outputs": [],
   "source": [
    "df_test.drop(['urgent','is_host_login','num_outbound_cmds'],axis=1,inplace=True)"
   ]
  },
  {
   "cell_type": "code",
   "execution_count": 17,
   "id": "3b9a5827",
   "metadata": {},
   "outputs": [],
   "source": [
    "df_train.drop('ID',axis=1,inplace=True)"
   ]
  },
  {
   "cell_type": "code",
   "execution_count": 18,
   "id": "b0befd50",
   "metadata": {},
   "outputs": [],
   "source": [
    "df_test.drop('ID',axis=1,inplace=True)"
   ]
  },
  {
   "cell_type": "code",
   "execution_count": 25,
   "id": "6d863fd2",
   "metadata": {},
   "outputs": [
    {
     "name": "stdout",
     "output_type": "stream",
     "text": [
      "<class 'pandas.core.frame.DataFrame'>\n",
      "RangeIndex: 17251 entries, 0 to 17250\n",
      "Data columns (total 40 columns):\n",
      " #   Column                       Non-Null Count  Dtype  \n",
      "---  ------                       --------------  -----  \n",
      " 0   duration                     17251 non-null  int64  \n",
      " 1   protocol_type                17251 non-null  object \n",
      " 2   service                      17251 non-null  object \n",
      " 3   flag                         17251 non-null  object \n",
      " 4   src_bytes                    17251 non-null  int64  \n",
      " 5   dst_bytes                    17251 non-null  int64  \n",
      " 6   land                         17251 non-null  int64  \n",
      " 7   wrong_fragment               17251 non-null  int64  \n",
      " 8   hot                          17251 non-null  int64  \n",
      " 9   num_failed_logins            17251 non-null  int64  \n",
      " 10  logged_in                    17251 non-null  int64  \n",
      " 11  num_compromised              17251 non-null  int64  \n",
      " 12  root_shell                   17251 non-null  int64  \n",
      " 13  su_attempted                 17251 non-null  int64  \n",
      " 14  num_root                     17251 non-null  int64  \n",
      " 15  num_file_creations           17251 non-null  int64  \n",
      " 16  num_shells                   17251 non-null  int64  \n",
      " 17  num_access_files             17251 non-null  int64  \n",
      " 18  is_guest_login               17251 non-null  int64  \n",
      " 19  count                        17251 non-null  int64  \n",
      " 20  srv_count                    17251 non-null  int64  \n",
      " 21  serror_rate                  17251 non-null  float64\n",
      " 22  srv_serror_rate              17251 non-null  float64\n",
      " 23  rerror_rate                  17251 non-null  float64\n",
      " 24  srv_rerror_rate              17251 non-null  float64\n",
      " 25  same_srv_rate                17251 non-null  float64\n",
      " 26  diff_srv_rate                17251 non-null  float64\n",
      " 27  srv_diff_host_rate           17251 non-null  float64\n",
      " 28  dst_host_count               17251 non-null  int64  \n",
      " 29  dst_host_srv_count           17251 non-null  int64  \n",
      " 30  dst_host_same_srv_rate       17251 non-null  float64\n",
      " 31  dst_host_diff_srv_rate       17251 non-null  float64\n",
      " 32  dst_host_same_src_port_rate  17251 non-null  float64\n",
      " 33  dst_host_srv_diff_host_rate  17251 non-null  float64\n",
      " 34  dst_host_serror_rate         17251 non-null  float64\n",
      " 35  dst_host_srv_serror_rate     17251 non-null  float64\n",
      " 36  dst_host_rerror_rate         17251 non-null  float64\n",
      " 37  dst_host_srv_rerror_rate     17251 non-null  float64\n",
      " 38  level                        17251 non-null  int64  \n",
      " 39  Class                        17251 non-null  int64  \n",
      "dtypes: float64(15), int64(22), object(3)\n",
      "memory usage: 5.3+ MB\n"
     ]
    }
   ],
   "source": [
    "df_train.info()"
   ]
  },
  {
   "cell_type": "code",
   "execution_count": 26,
   "id": "47a69a7c",
   "metadata": {},
   "outputs": [
    {
     "data": {
      "text/plain": [
       "array([0, 1], dtype=int64)"
      ]
     },
     "execution_count": 26,
     "metadata": {},
     "output_type": "execute_result"
    }
   ],
   "source": [
    "df_train['Class'].unique()"
   ]
  },
  {
   "cell_type": "code",
   "execution_count": 27,
   "id": "13ceb7ab",
   "metadata": {},
   "outputs": [
    {
     "data": {
      "text/plain": [
       "<AxesSubplot:ylabel='Class'>"
      ]
     },
     "execution_count": 27,
     "metadata": {},
     "output_type": "execute_result"
    },
    {
     "data": {
      "image/png": "[encoded data removed]",
      "text/plain": [
       "<Figure size 500x500 with 1 Axes>"
      ]
     },
     "metadata": {},
     "output_type": "display_data"
    }
   ],
   "source": [
    "df_train['Class'].value_counts().plot( kind='pie', figsize=(5, 5), fontsize=10, autopct='%1.0f%%')"
   ]
  },
  {
   "cell_type": "code",
   "execution_count": 28,
   "id": "453c56a3",
   "metadata": {},
   "outputs": [
    {
     "name": "stdout",
     "output_type": "stream",
     "text": [
      "{0, 1} "
     ]
    }
   ],
   "source": [
    "Results = set(df_train['Class'].values)\n",
    "print(Results,end=\" \")"
   ]
  },
  {
   "cell_type": "code",
   "execution_count": 29,
   "id": "2de139e3",
   "metadata": {},
   "outputs": [
    {
     "data": {
      "text/plain": [
       "array(['tcp', 'udp', 'icmp'], dtype=object)"
      ]
     },
     "execution_count": 29,
     "metadata": {},
     "output_type": "execute_result"
    }
   ],
   "source": [
    "df_train['protocol_type'].unique()"
   ]
  },
  {
   "cell_type": "code",
   "execution_count": 30,
   "id": "ab8bc5d2",
   "metadata": {},
   "outputs": [
    {
     "data": {
      "text/plain": [
       "array(['SF', 'S0', 'REJ', 'RSTR', 'RSTO', 'S2', 'S1', 'RSTOS0', 'SH',\n",
       "       'OTH', 'S3'], dtype=object)"
      ]
     },
     "execution_count": 30,
     "metadata": {},
     "output_type": "execute_result"
    }
   ],
   "source": [
    "df_train['flag'].unique()"
   ]
  },
  {
   "cell_type": "code",
   "execution_count": 31,
   "id": "7d9631f5",
   "metadata": {},
   "outputs": [
    {
     "data": {
      "text/plain": [
       "0"
      ]
     },
     "execution_count": 31,
     "metadata": {},
     "output_type": "execute_result"
    }
   ],
   "source": [
    "df_train.duplicated().sum()"
   ]
  },
  {
   "cell_type": "code",
   "execution_count": 32,
   "id": "6eabc6f6",
   "metadata": {},
   "outputs": [
    {
     "data": {
      "text/plain": [
       "0"
      ]
     },
     "execution_count": 32,
     "metadata": {},
     "output_type": "execute_result"
    }
   ],
   "source": [
    "df_test.duplicated().sum()\n"
   ]
  },
  {
   "cell_type": "code",
   "execution_count": 33,
   "id": "323e7387",
   "metadata": {},
   "outputs": [],
   "source": [
    "df_train.drop('service',axis=1,inplace=True)"
   ]
  },
  {
   "cell_type": "code",
   "execution_count": 34,
   "id": "6dc07b73",
   "metadata": {},
   "outputs": [],
   "source": [
    "df_test.drop('service',axis=1,inplace=True)"
   ]
  },
  {
   "cell_type": "code",
   "execution_count": 35,
   "id": "cd9e714f",
   "metadata": {},
   "outputs": [
    {
     "data": {
      "text/plain": [
       "(17251, 39)"
      ]
     },
     "execution_count": 35,
     "metadata": {},
     "output_type": "execute_result"
    }
   ],
   "source": [
    "df_train.shape"
   ]
  },
  {
   "cell_type": "code",
   "execution_count": 92,
   "id": "68019781",
   "metadata": {},
   "outputs": [
    {
     "data": {
      "text/plain": [
       "(5751, 50)"
      ]
     },
     "execution_count": 92,
     "metadata": {},
     "output_type": "execute_result"
    }
   ],
   "source": [
    "df_test.shape"
   ]
  },
  {
   "cell_type": "code",
   "execution_count": 36,
   "id": "9b7aa7dc",
   "metadata": {},
   "outputs": [],
   "source": [
    "df_train = pd.get_dummies(df_train,columns=['protocol_type','flag'],prefix=\"\",prefix_sep=\"\")"
   ]
  },
  {
   "cell_type": "code",
   "execution_count": 37,
   "id": "44a7724d",
   "metadata": {},
   "outputs": [],
   "source": [
    "df_test = pd.get_dummies(df_test,columns=['protocol_type','flag'],prefix=\"\",prefix_sep=\"\")"
   ]
  },
  {
   "cell_type": "markdown",
   "id": "193f3db7",
   "metadata": {},
   "source": [
    "# Train_Test_Split"
   ]
  },
  {
   "cell_type": "code",
   "execution_count": null,
   "id": "41bc3d72",
   "metadata": {},
   "outputs": [],
   "source": [
    "ytrain=df_train['Class']\n",
    "xtrain=df_train.drop('Class',axis=1)"
   ]
  },
  {
   "cell_type": "code",
   "execution_count": 41,
   "id": "c4508b6a",
   "metadata": {},
   "outputs": [],
   "source": [
    "xtrain_train,xtest_train ,ytrain_train,ytest_train = train_test_split(xtrain,ytrain, test_size= 0.25 , random_state=42)"
   ]
  },
  {
   "cell_type": "code",
   "execution_count": 42,
   "id": "525a99dc",
   "metadata": {},
   "outputs": [
    {
     "data": {
      "text/plain": [
       "((12938, 50), (4313, 50), (12938,), (4313,))"
      ]
     },
     "execution_count": 42,
     "metadata": {},
     "output_type": "execute_result"
    }
   ],
   "source": [
    "xtrain_train.shape,xtest_train.shape ,ytrain_train.shape,ytest_train.shape"
   ]
  },
  {
   "cell_type": "markdown",
   "id": "0b9a5da0",
   "metadata": {},
   "source": [
    "# DATA SCALING"
   ]
  },
  {
   "cell_type": "code",
   "execution_count": 43,
   "id": "35ea0e8d",
   "metadata": {},
   "outputs": [],
   "source": [
    "def scaled_train(scaled_model):\n",
    "    xtrain_scaled=scaled_model.fit_transform(xtrain_train)\n",
    "    return xtrain_scaled \n",
    "    "
   ]
  },
  {
   "cell_type": "code",
   "execution_count": 44,
   "id": "a6ed7a72",
   "metadata": {},
   "outputs": [],
   "source": [
    "scaled_train=scaled_train(StandardScaler())"
   ]
  },
  {
   "cell_type": "code",
   "execution_count": 45,
   "id": "64fe2efa",
   "metadata": {},
   "outputs": [
    {
     "data": {
      "text/plain": [
       "array([[-0.11070652, -0.0114712 , -0.03806439, ..., -0.01758586,\n",
       "         0.83660506, -0.04573008],\n",
       "       [-0.11070652, -0.01141137, -0.03969857, ..., -0.01758586,\n",
       "         0.83660506, -0.04573008],\n",
       "       [-0.11070652, -0.00839198, -0.03969857, ..., -0.01758586,\n",
       "         0.83660506, -0.04573008],\n",
       "       ...,\n",
       "       [-0.11070652, -0.0114843 , -0.03969857, ..., -0.01758586,\n",
       "        -1.19530714, -0.04573008],\n",
       "       [-0.11070652, -0.01139173, -0.02599853, ..., -0.01758586,\n",
       "         0.83660506, -0.04573008],\n",
       "       [-0.11070652, -0.01140185,  0.65883132, ..., -0.01758586,\n",
       "         0.83660506, -0.04573008]])"
      ]
     },
     "execution_count": 45,
     "metadata": {},
     "output_type": "execute_result"
    }
   ],
   "source": [
    "scaled_train"
   ]
  },
  {
   "cell_type": "code",
   "execution_count": 46,
   "id": "0b6232b5",
   "metadata": {},
   "outputs": [],
   "source": [
    "def scaled_test(scaled_model):\n",
    "    xtrain_scaled=scaled_model.fit_transform(xtrain_train)\n",
    "    xtest_scaled=scaled_model.transform(xtest_train)\n",
    "    return xtest_scaled "
   ]
  },
  {
   "cell_type": "code",
   "execution_count": 47,
   "id": "b3b211ea",
   "metadata": {},
   "outputs": [],
   "source": [
    "scaled_test=scaled_test(StandardScaler())"
   ]
  },
  {
   "cell_type": "code",
   "execution_count": 48,
   "id": "61d5cdd3",
   "metadata": {},
   "outputs": [
    {
     "data": {
      "text/plain": [
       "array([[-0.11070652, -0.0113825 , -0.00466825, ..., -0.01758586,\n",
       "         0.83660506, -0.04573008],\n",
       "       [-0.10992298, -0.01111223, -0.00958306, ..., -0.01758586,\n",
       "         0.83660506, -0.04573008],\n",
       "       [-0.11070652, -0.0114843 , -0.03969857, ..., -0.01758586,\n",
       "        -1.19530714, -0.04573008],\n",
       "       ...,\n",
       "       [-0.11070652, -0.01141941, -0.03130653, ..., -0.01758586,\n",
       "         0.83660506, -0.04573008],\n",
       "       [-0.10287104, -0.01141494, -0.03023756, ..., -0.01758586,\n",
       "         0.83660506, -0.04573008],\n",
       "       [-0.11070652, -0.01140185, -0.02757127, ..., -0.01758586,\n",
       "         0.83660506, -0.04573008]])"
      ]
     },
     "execution_count": 48,
     "metadata": {},
     "output_type": "execute_result"
    }
   ],
   "source": [
    "scaled_test"
   ]
  },
  {
   "cell_type": "markdown",
   "id": "0a974e6d",
   "metadata": {},
   "source": [
    "# PCA"
   ]
  },
  {
   "cell_type": "code",
   "execution_count": 76,
   "id": "ab146a5a",
   "metadata": {},
   "outputs": [
    {
     "name": "stdout",
     "output_type": "stream",
     "text": [
      "Shape before PCA:  (12938, 50)\n"
     ]
    }
   ],
   "source": [
    "pca = PCA(n_components=20)\n",
    "pca_features = pca.fit_transform(scaled_train) \n",
    "print('Shape before PCA: ', scaled_train.shape)"
   ]
  },
  {
   "cell_type": "code",
   "execution_count": 77,
   "id": "579f6ece",
   "metadata": {},
   "outputs": [
    {
     "name": "stdout",
     "output_type": "stream",
     "text": [
      "Shape after PCA:  (12938, 20)\n"
     ]
    }
   ],
   "source": [
    "print('Shape after PCA: ', pca_features.shape)"
   ]
  },
  {
   "cell_type": "code",
   "execution_count": 78,
   "id": "83d0c54a",
   "metadata": {},
   "outputs": [
    {
     "data": {
      "text/plain": [
       "array([[-2.13375076, -0.69058977, -0.40801459, ..., -0.11768526,\n",
       "        -0.0714911 , -0.15278607],\n",
       "       [-1.5255166 , -0.30932106,  0.10227748, ...,  0.08171795,\n",
       "         0.12435486,  0.05155741],\n",
       "       [-1.45950973, -0.4667075 ,  0.03925342, ...,  0.09544266,\n",
       "         0.09681646,  0.09707179],\n",
       "       ...,\n",
       "       [ 1.86727666,  6.29373674, -0.23465467, ..., -0.47227059,\n",
       "         0.01492777,  0.21109343],\n",
       "       [-2.29547631, -0.89318699, -0.0494548 , ...,  0.08240351,\n",
       "        -0.01978225, -0.04943688],\n",
       "       [-2.67631338, -0.78647829,  0.01828744, ..., -0.0210922 ,\n",
       "         0.55908453,  0.16771967]])"
      ]
     },
     "execution_count": 78,
     "metadata": {},
     "output_type": "execute_result"
    }
   ],
   "source": [
    "pca_features"
   ]
  },
  {
   "cell_type": "code",
   "execution_count": 79,
   "id": "e744abb2",
   "metadata": {},
   "outputs": [
    {
     "data": {
      "text/plain": [
       "array([8.81175068, 6.0079748 , 4.10974471, 3.24493147, 2.25455227,\n",
       "       1.99554963, 1.76953314, 1.39004035, 1.27207526, 1.2011776 ,\n",
       "       1.09560434, 1.05939402, 1.03945263, 1.00986216, 1.00403149,\n",
       "       1.0026251 , 1.00092594, 0.9960482 , 0.99304971, 0.95114672])"
      ]
     },
     "execution_count": 79,
     "metadata": {},
     "output_type": "execute_result"
    }
   ],
   "source": [
    "pca.explained_variance_"
   ]
  },
  {
   "cell_type": "code",
   "execution_count": 80,
   "id": "9be8a94e",
   "metadata": {},
   "outputs": [
    {
     "data": {
      "image/png": "[encoded data removed]",
      "text/plain": [
       "<Figure size 640x480 with 1 Axes>"
      ]
     },
     "metadata": {},
     "output_type": "display_data"
    }
   ],
   "source": [
    "sns.set()\n",
    "plt.bar(range(1,len(pca.explained_variance_)+1),pca.explained_variance_)\n",
    " \n",
    " \n",
    "plt.xlabel('PCA Feature')\n",
    "plt.ylabel('Explained variance')\n",
    "plt.title('Feature Explained Variance')\n",
    "plt.show()"
   ]
  },
  {
   "cell_type": "markdown",
   "id": "77fcf316",
   "metadata": {},
   "source": [
    " # Logistic Regression with grid search"
   ]
  },
  {
   "cell_type": "code",
   "execution_count": 51,
   "id": "e79ef393",
   "metadata": {},
   "outputs": [
    {
     "name": "stdout",
     "output_type": "stream",
     "text": [
      "tuned hpyerparameters :(best parameters)  {'C': 1000.0, 'penalty': 'l2'}\n",
      "accuracy : 0.9817591692755308\n"
     ]
    }
   ],
   "source": [
    "from sklearn.model_selection import GridSearchCV\n",
    "grid={\"C\":np.logspace(-3,3,7), \"penalty\":[\"l1\",\"l2\"]}# l1 lasso l2 ridge\n",
    "logreg=LogisticRegression()\n",
    "logreg_cv=GridSearchCV(logreg,grid,cv=10)\n",
    "logreg_cv.fit(scaled_train,ytrain_train)\n",
    "print(\"tuned hpyerparameters :(best parameters) \",logreg_cv.best_params_)\n",
    "print(\"accuracy :\",logreg_cv.best_score_)"
   ]
  },
  {
   "cell_type": "markdown",
   "id": "7187baf0",
   "metadata": {},
   "source": [
    "# SVM with grid search"
   ]
  },
  {
   "cell_type": "code",
   "execution_count": 52,
   "id": "6a343e9c",
   "metadata": {},
   "outputs": [
    {
     "data": {
      "text/plain": [
       "0.9939717134245305"
      ]
     },
     "execution_count": 52,
     "metadata": {},
     "output_type": "execute_result"
    }
   ],
   "source": [
    "parameters = {'kernel':('linear', 'rbf'), 'C':[1, 10]}\n",
    "svc =SVC()\n",
    "clf = GridSearchCV(svc, parameters)\n",
    "clf.fit(scaled_train,ytrain_train)\n",
    "predict_SVM=clf.predict(scaled_test)\n",
    "accuracy_score(predict_SVM,ytest_train)"
   ]
  },
  {
   "cell_type": "code",
   "execution_count": 53,
   "id": "776c127b",
   "metadata": {},
   "outputs": [
    {
     "data": {
      "text/html": [
       "<div>\n",
       "<style scoped>\n",
       "    .dataframe tbody tr th:only-of-type {\n",
       "        vertical-align: middle;\n",
       "    }\n",
       "\n",
       "    .dataframe tbody tr th {\n",
       "        vertical-align: top;\n",
       "    }\n",
       "\n",
       "    .dataframe thead th {\n",
       "        text-align: right;\n",
       "    }\n",
       "</style>\n",
       "<table border=\"1\" class=\"dataframe\">\n",
       "  <thead>\n",
       "    <tr style=\"text-align: right;\">\n",
       "      <th></th>\n",
       "      <th>predict</th>\n",
       "      <th>ytest</th>\n",
       "    </tr>\n",
       "  </thead>\n",
       "  <tbody>\n",
       "    <tr>\n",
       "      <th>10866</th>\n",
       "      <td>0</td>\n",
       "      <td>0</td>\n",
       "    </tr>\n",
       "    <tr>\n",
       "      <th>8776</th>\n",
       "      <td>1</td>\n",
       "      <td>1</td>\n",
       "    </tr>\n",
       "    <tr>\n",
       "      <th>3975</th>\n",
       "      <td>1</td>\n",
       "      <td>1</td>\n",
       "    </tr>\n",
       "    <tr>\n",
       "      <th>5871</th>\n",
       "      <td>0</td>\n",
       "      <td>0</td>\n",
       "    </tr>\n",
       "    <tr>\n",
       "      <th>7974</th>\n",
       "      <td>1</td>\n",
       "      <td>1</td>\n",
       "    </tr>\n",
       "    <tr>\n",
       "      <th>...</th>\n",
       "      <td>...</td>\n",
       "      <td>...</td>\n",
       "    </tr>\n",
       "    <tr>\n",
       "      <th>14965</th>\n",
       "      <td>1</td>\n",
       "      <td>1</td>\n",
       "    </tr>\n",
       "    <tr>\n",
       "      <th>11290</th>\n",
       "      <td>1</td>\n",
       "      <td>1</td>\n",
       "    </tr>\n",
       "    <tr>\n",
       "      <th>5441</th>\n",
       "      <td>0</td>\n",
       "      <td>0</td>\n",
       "    </tr>\n",
       "    <tr>\n",
       "      <th>3492</th>\n",
       "      <td>0</td>\n",
       "      <td>0</td>\n",
       "    </tr>\n",
       "    <tr>\n",
       "      <th>9073</th>\n",
       "      <td>0</td>\n",
       "      <td>0</td>\n",
       "    </tr>\n",
       "  </tbody>\n",
       "</table>\n",
       "<p>4313 rows × 2 columns</p>\n",
       "</div>"
      ],
      "text/plain": [
       "       predict  ytest\n",
       "10866        0      0\n",
       "8776         1      1\n",
       "3975         1      1\n",
       "5871         0      0\n",
       "7974         1      1\n",
       "...        ...    ...\n",
       "14965        1      1\n",
       "11290        1      1\n",
       "5441         0      0\n",
       "3492         0      0\n",
       "9073         0      0\n",
       "\n",
       "[4313 rows x 2 columns]"
      ]
     },
     "execution_count": 53,
     "metadata": {},
     "output_type": "execute_result"
    }
   ],
   "source": [
    "comparison_df=pd.DataFrame({'predict':predict_SVM,'ytest':ytest_train})\n",
    "comparison_df"
   ]
  },
  {
   "cell_type": "code",
   "execution_count": 54,
   "id": "e971e86c",
   "metadata": {},
   "outputs": [
    {
     "data": {
      "text/plain": [
       "0.9939717134245305"
      ]
     },
     "execution_count": 54,
     "metadata": {},
     "output_type": "execute_result"
    }
   ],
   "source": [
    "accuracy_score(predict_SVM,ytest_train)"
   ]
  },
  {
   "cell_type": "markdown",
   "id": "6342c379",
   "metadata": {},
   "source": [
    "# Tree"
   ]
  },
  {
   "cell_type": "code",
   "execution_count": 72,
   "id": "77ea9553",
   "metadata": {},
   "outputs": [
    {
     "data": {
      "text/plain": [
       "0.9958265708323673"
      ]
     },
     "execution_count": 72,
     "metadata": {},
     "output_type": "execute_result"
    }
   ],
   "source": [
    "dt = tree.DecisionTreeClassifier(random_state=5)\n",
    "dt.fit(xtrain_train,ytrain_train)\n",
    "predict_TREE=dt.predict(xtest_train)\n",
    "accuracy_score(predict_TREE,ytest_train)"
   ]
  },
  {
   "cell_type": "markdown",
   "id": "14d51f19",
   "metadata": {},
   "source": [
    "# XGBOOST"
   ]
  },
  {
   "cell_type": "code",
   "execution_count": 82,
   "id": "e87fb4d8",
   "metadata": {},
   "outputs": [
    {
     "data": {
      "text/plain": [
       "0.9937398562485509"
      ]
     },
     "execution_count": 82,
     "metadata": {},
     "output_type": "execute_result"
    }
   ],
   "source": [
    "xgb = GradientBoostingClassifier(n_estimators=100, learning_rate=1.0, max_depth=1, random_state=0)\n",
    "xgb.fit(scaled_train,ytrain_train)\n",
    "predict_xgb=xgb.predict(scaled_test)\n",
    "accuracy_score(predict_xgb,ytest_train)"
   ]
  },
  {
   "cell_type": "markdown",
   "id": "0361aad7",
   "metadata": {},
   "source": [
    "# Naive bays"
   ]
  },
  {
   "cell_type": "code",
   "execution_count": 57,
   "id": "dd8770a8",
   "metadata": {},
   "outputs": [
    {
     "data": {
      "text/plain": [
       "0.914908416415488"
      ]
     },
     "execution_count": 57,
     "metadata": {},
     "output_type": "execute_result"
    }
   ],
   "source": [
    "gnb = GaussianNB()\n",
    "gnb.fit(scaled_train,ytrain_train)\n",
    "predict_nb=gnb.predict(scaled_test)\n",
    "accuracy_score(predict_nb,ytest_train)"
   ]
  },
  {
   "cell_type": "code",
   "execution_count": 58,
   "id": "ae7952c6",
   "metadata": {},
   "outputs": [
    {
     "name": "stdout",
     "output_type": "stream",
     "text": [
      "Number of mislabeled points out of a total 4313 points : 367\n"
     ]
    }
   ],
   "source": [
    "print(\"Number of mislabeled points out of a total %d points : %d\" % (scaled_test.shape[0], (ytest_train != predict_nb).sum()))"
   ]
  },
  {
   "cell_type": "markdown",
   "id": "81ea42b2",
   "metadata": {},
   "source": [
    "# KNN"
   ]
  },
  {
   "cell_type": "code",
   "execution_count": 59,
   "id": "ef29ae59",
   "metadata": {},
   "outputs": [
    {
     "data": {
      "text/plain": [
       "0.9789009969858568"
      ]
     },
     "execution_count": 59,
     "metadata": {},
     "output_type": "execute_result"
    }
   ],
   "source": [
    "knn=KNeighborsClassifier(n_neighbors=100)\n",
    "knn.fit(scaled_train,ytrain_train)\n",
    "predict_knn=knn.predict(scaled_test)\n",
    "accuracy_score(predict_knn,ytest_train)"
   ]
  },
  {
   "cell_type": "markdown",
   "id": "98e65ceb",
   "metadata": {},
   "source": [
    "# Random Forest"
   ]
  },
  {
   "cell_type": "code",
   "execution_count": 69,
   "id": "90067df8",
   "metadata": {},
   "outputs": [
    {
     "data": {
      "text/plain": [
       "0.9967539995362856"
      ]
     },
     "execution_count": 69,
     "metadata": {},
     "output_type": "execute_result"
    }
   ],
   "source": [
    "rfc = RandomForestClassifier(n_estimators=50, max_depth=10, random_state=0)\n",
    "rfc.fit(xtrain_train,ytrain_train)\n",
    "predict_rf=rfc.predict(xtest_train)\n",
    "accuracy_score(predict_rf,ytest_train)"
   ]
  },
  {
   "cell_type": "code",
   "execution_count": 70,
   "id": "df2e55d3",
   "metadata": {},
   "outputs": [
    {
     "data": {
      "text/plain": [
       "0.9979132854161836"
      ]
     },
     "execution_count": 70,
     "metadata": {},
     "output_type": "execute_result"
    }
   ],
   "source": [
    "max_depth=[2, 8, 16]\n",
    "n_estimators = [64, 128, 256]\n",
    "param_grid = dict(max_depth=max_depth, n_estimators=n_estimators)\n",
    "# Build the grid search\n",
    "dfrst = RandomForestClassifier(n_estimators=n_estimators, max_depth=max_depth)\n",
    "grid = GridSearchCV(estimator=dfrst, param_grid=param_grid, cv = 5)\n",
    "grid_results = grid.fit(xtrain_train,ytrain_train)\n",
    "\n",
    "predict_grid_rg=grid_results.predict(xtest_train)\n",
    "accuracy_score(predict_grid_rg,ytest_train)\n",
    "\n"
   ]
  },
  {
   "cell_type": "code",
   "execution_count": null,
   "id": "443e6cdf",
   "metadata": {},
   "outputs": [],
   "source": [
    "# Summarize the results in a readable format\n",
    "print(\"Best: {0}, using {1}\".format(grid_results.cv_results_['mean_test_score'], grid_results.best_params_))\n"
   ]
  },
  {
   "cell_type": "markdown",
   "id": "9251fcf9",
   "metadata": {},
   "source": [
    "# SVM"
   ]
  },
  {
   "cell_type": "code",
   "execution_count": null,
   "id": "703185f5",
   "metadata": {},
   "outputs": [],
   "source": [
    "parameters = {'kernel':('linear', 'rbf'), 'C':[1, 10]}\n",
    "svc =SVC()\n",
    "clf = GridSearchCV(svc, parameters)\n",
    "clf.fit(scaled_train,ytrain_train)\n",
    "predict_svm=clf.predict(scaled_test)\n",
    "accuracy_score(predict_svm,ytest_train)"
   ]
  },
  {
   "cell_type": "markdown",
   "id": "c58f3f44",
   "metadata": {},
   "source": [
    "# The 4 best classification model are Random Forest & Decision Tree&  SVM  & XGBoost "
   ]
  },
  {
   "cell_type": "code",
   "execution_count": 87,
   "id": "8253918c",
   "metadata": {},
   "outputs": [],
   "source": [
    "max_depth=[2, 8, 16]\n",
    "n_estimators = [64, 128, 256]\n",
    "param_grid = dict(max_depth=max_depth, n_estimators=n_estimators)\n",
    "# Build the grid search\n",
    "dfrst = RandomForestClassifier(n_estimators=n_estimators, max_depth=max_depth)\n",
    "grid = GridSearchCV(estimator=dfrst, param_grid=param_grid, cv = 5)\n",
    "grid_results = grid.fit(xtrain,ytrain)\n",
    "\n",
    "final_result=grid_results.predict(df_test)\n"
   ]
  },
  {
   "cell_type": "code",
   "execution_count": 88,
   "id": "cfaeff0a",
   "metadata": {},
   "outputs": [
    {
     "data": {
      "text/plain": [
       "array([0, 0, 0, ..., 1, 0, 1], dtype=int64)"
      ]
     },
     "execution_count": 88,
     "metadata": {},
     "output_type": "execute_result"
    }
   ],
   "source": [
    "final_result"
   ]
  },
  {
   "cell_type": "code",
   "execution_count": 93,
   "id": "4a72421b",
   "metadata": {},
   "outputs": [],
   "source": [
    "final_result.tofile('data.csv', sep = ',')\n"
   ]
  }
 ],
 "metadata": {
  "kernelspec": {
   "display_name": "Python 3 (ipykernel)",
   "language": "python",
   "name": "python3"
  },
  "language_info": {
   "codemirror_mode": {
    "name": "ipython",
    "version": 3
   },
   "file_extension": ".py",
   "mimetype": "text/x-python",
   "name": "python",
   "nbconvert_exporter": "python",
   "pygments_lexer": "ipython3",
   "version": "3.9.13"
  }
 },
 "nbformat": 4,
 "nbformat_minor": 5
}
